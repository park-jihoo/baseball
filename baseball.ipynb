{
 "metadata": {
  "language_info": {
   "codemirror_mode": {
    "name": "ipython",
    "version": 3
   },
   "file_extension": ".py",
   "mimetype": "text/x-python",
   "name": "python",
   "nbconvert_exporter": "python",
   "pygments_lexer": "ipython3",
   "version": "3.7.6-final"
  },
  "orig_nbformat": 2,
  "kernelspec": {
   "name": "python3",
   "display_name": "Python 3"
  }
 },
 "nbformat": 4,
 "nbformat_minor": 2,
 "cells": [
  {
   "cell_type": "code",
   "execution_count": 43,
   "metadata": {
    "tags": []
   },
   "outputs": [],
   "source": [
    "import requests\n",
    "from bs4 import BeautifulSoup as bs\n",
    "import re\n",
    "import pandas as pd"
   ]
  },
  {
   "cell_type": "code",
   "execution_count": 65,
   "metadata": {},
   "outputs": [],
   "source": [
    "url = 'http://www.espn.com/mlb/history/leaders/_/breakdown/season/year/2019/start/1'\n",
    "page = requests.get(url)\n",
    "soup = bs(page.text, 'html.parser')\n",
    "header = soup.find('tr', attrs = {'class': 'colhead'})\n",
    "columns = [col.get_text() for col in header.find_all('td')]\n",
    "final_df = pd.DataFrame(columns=columns)\n",
    "\n",
    "for i in range(1, 346, 50):\n",
    "    url = 'http://www.espn.com/mlb/history/leaders/_/breakdown/season/year/2019/start/{}'.format(i)\n",
    "    page = requests.get(url)\n",
    "    soup = bs(page.text, 'html.parser')\n",
    "    players = soup.find_all ('tr', attrs = {'class':re.compile('row player-10-')})\n",
    "    for player in players:\n",
    "        stats = [stat.get_text() for stat in player.find_all('td')]\n",
    "\n",
    "        temp_df = pd.DataFrame(stats).transpose()\n",
    "        temp_df.columns = columns\n",
    "        final_df = pd.concat([final_df, temp_df], ignore_index = True)"
   ]
  },
  {
   "cell_type": "code",
   "execution_count": 66,
   "metadata": {},
   "outputs": [
    {
     "output_type": "execute_result",
     "data": {
      "text/plain": "                    PLAYER YRS    G   AB    R    H  2B 3B  HR RBI  BB   SO  \\\n0      1    Howie Kendrick  14  121  334   61  115  23  1  17  62  27   49   \n1      2      Tim Anderson   4  123  498   81  167  32  0  18  56  15  109   \n2      3       Luis Arraez   1   92  326   54  109  20  1   4  28  36   29   \n3      4    Donovan Solano   6   81  215   27   71  13  1   4  23  10   49   \n4      5  Christian Yelich   7  130  489  100  161  29  3  44  97  80  118   \n..   ...               ...  ..  ...  ...  ...  ...  .. ..  ..  ..  ..  ...   \n341  342     Lewis Brinson   3   75  226   15   39   9  1   0  15  13   74   \n342  343      Keon Broxton   5  100  204   24   34   4  0   6  16  20  104   \n343  344       Mike Zunino   7   90  266   30   44  10  1   9  32  20   98   \n344  345       Jeff Mathis  15   86  228   17   36   9  0   2  12  15   87   \n345  346       Travis Shaw   5   86  230   22   36   5  0   7  16  36   89   \n\n     SB CS    BA  \n0     2  1  .344  \n1    17  5  .335  \n2     2  2  .334  \n3     0  1  .330  \n4    30  2  .329  \n..   .. ..   ...  \n341   1  1  .173  \n342  10  6  .167  \n343   0  0  .165  \n344   1  0  .158  \n345   0  0  .157  \n\n[346 rows x 16 columns]",
      "text/html": "<div>\n<style scoped>\n    .dataframe tbody tr th:only-of-type {\n        vertical-align: middle;\n    }\n\n    .dataframe tbody tr th {\n        vertical-align: top;\n    }\n\n    .dataframe thead th {\n        text-align: right;\n    }\n</style>\n<table border=\"1\" class=\"dataframe\">\n  <thead>\n    <tr style=\"text-align: right;\">\n      <th></th>\n      <th></th>\n      <th>PLAYER</th>\n      <th>YRS</th>\n      <th>G</th>\n      <th>AB</th>\n      <th>R</th>\n      <th>H</th>\n      <th>2B</th>\n      <th>3B</th>\n      <th>HR</th>\n      <th>RBI</th>\n      <th>BB</th>\n      <th>SO</th>\n      <th>SB</th>\n      <th>CS</th>\n      <th>BA</th>\n    </tr>\n  </thead>\n  <tbody>\n    <tr>\n      <th>0</th>\n      <td>1</td>\n      <td>Howie Kendrick</td>\n      <td>14</td>\n      <td>121</td>\n      <td>334</td>\n      <td>61</td>\n      <td>115</td>\n      <td>23</td>\n      <td>1</td>\n      <td>17</td>\n      <td>62</td>\n      <td>27</td>\n      <td>49</td>\n      <td>2</td>\n      <td>1</td>\n      <td>.344</td>\n    </tr>\n    <tr>\n      <th>1</th>\n      <td>2</td>\n      <td>Tim Anderson</td>\n      <td>4</td>\n      <td>123</td>\n      <td>498</td>\n      <td>81</td>\n      <td>167</td>\n      <td>32</td>\n      <td>0</td>\n      <td>18</td>\n      <td>56</td>\n      <td>15</td>\n      <td>109</td>\n      <td>17</td>\n      <td>5</td>\n      <td>.335</td>\n    </tr>\n    <tr>\n      <th>2</th>\n      <td>3</td>\n      <td>Luis Arraez</td>\n      <td>1</td>\n      <td>92</td>\n      <td>326</td>\n      <td>54</td>\n      <td>109</td>\n      <td>20</td>\n      <td>1</td>\n      <td>4</td>\n      <td>28</td>\n      <td>36</td>\n      <td>29</td>\n      <td>2</td>\n      <td>2</td>\n      <td>.334</td>\n    </tr>\n    <tr>\n      <th>3</th>\n      <td>4</td>\n      <td>Donovan Solano</td>\n      <td>6</td>\n      <td>81</td>\n      <td>215</td>\n      <td>27</td>\n      <td>71</td>\n      <td>13</td>\n      <td>1</td>\n      <td>4</td>\n      <td>23</td>\n      <td>10</td>\n      <td>49</td>\n      <td>0</td>\n      <td>1</td>\n      <td>.330</td>\n    </tr>\n    <tr>\n      <th>4</th>\n      <td>5</td>\n      <td>Christian Yelich</td>\n      <td>7</td>\n      <td>130</td>\n      <td>489</td>\n      <td>100</td>\n      <td>161</td>\n      <td>29</td>\n      <td>3</td>\n      <td>44</td>\n      <td>97</td>\n      <td>80</td>\n      <td>118</td>\n      <td>30</td>\n      <td>2</td>\n      <td>.329</td>\n    </tr>\n    <tr>\n      <th>...</th>\n      <td>...</td>\n      <td>...</td>\n      <td>...</td>\n      <td>...</td>\n      <td>...</td>\n      <td>...</td>\n      <td>...</td>\n      <td>...</td>\n      <td>...</td>\n      <td>...</td>\n      <td>...</td>\n      <td>...</td>\n      <td>...</td>\n      <td>...</td>\n      <td>...</td>\n      <td>...</td>\n    </tr>\n    <tr>\n      <th>341</th>\n      <td>342</td>\n      <td>Lewis Brinson</td>\n      <td>3</td>\n      <td>75</td>\n      <td>226</td>\n      <td>15</td>\n      <td>39</td>\n      <td>9</td>\n      <td>1</td>\n      <td>0</td>\n      <td>15</td>\n      <td>13</td>\n      <td>74</td>\n      <td>1</td>\n      <td>1</td>\n      <td>.173</td>\n    </tr>\n    <tr>\n      <th>342</th>\n      <td>343</td>\n      <td>Keon Broxton</td>\n      <td>5</td>\n      <td>100</td>\n      <td>204</td>\n      <td>24</td>\n      <td>34</td>\n      <td>4</td>\n      <td>0</td>\n      <td>6</td>\n      <td>16</td>\n      <td>20</td>\n      <td>104</td>\n      <td>10</td>\n      <td>6</td>\n      <td>.167</td>\n    </tr>\n    <tr>\n      <th>343</th>\n      <td>344</td>\n      <td>Mike Zunino</td>\n      <td>7</td>\n      <td>90</td>\n      <td>266</td>\n      <td>30</td>\n      <td>44</td>\n      <td>10</td>\n      <td>1</td>\n      <td>9</td>\n      <td>32</td>\n      <td>20</td>\n      <td>98</td>\n      <td>0</td>\n      <td>0</td>\n      <td>.165</td>\n    </tr>\n    <tr>\n      <th>344</th>\n      <td>345</td>\n      <td>Jeff Mathis</td>\n      <td>15</td>\n      <td>86</td>\n      <td>228</td>\n      <td>17</td>\n      <td>36</td>\n      <td>9</td>\n      <td>0</td>\n      <td>2</td>\n      <td>12</td>\n      <td>15</td>\n      <td>87</td>\n      <td>1</td>\n      <td>0</td>\n      <td>.158</td>\n    </tr>\n    <tr>\n      <th>345</th>\n      <td>346</td>\n      <td>Travis Shaw</td>\n      <td>5</td>\n      <td>86</td>\n      <td>230</td>\n      <td>22</td>\n      <td>36</td>\n      <td>5</td>\n      <td>0</td>\n      <td>7</td>\n      <td>16</td>\n      <td>36</td>\n      <td>89</td>\n      <td>0</td>\n      <td>0</td>\n      <td>.157</td>\n    </tr>\n  </tbody>\n</table>\n<p>346 rows × 16 columns</p>\n</div>"
     },
     "metadata": {},
     "execution_count": 66
    }
   ],
   "source": [
    "final_df"
   ]
  }
 ]
}